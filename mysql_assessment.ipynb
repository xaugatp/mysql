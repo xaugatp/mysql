{
 "cells": [
  {
   "cell_type": "code",
   "execution_count": 1,
   "metadata": {},
   "outputs": [],
   "source": [
    "#Q1. What is a database? Differentiate between SQL and NoSQL databases."
   ]
  },
  {
   "cell_type": "code",
   "execution_count": 2,
   "metadata": {},
   "outputs": [
    {
     "data": {
      "text/plain": [
       "'\\nA database is an organized collection of structured information, or data, typically\\nstored in a computer system.\\n\\nThe diffrences between SQL and NoSQL databases are listed below:\\ni) SQL databases are relational, and NoSQL databases are non-relational.\\nii) SQL databases use structured query language(SQL) and have a predefined \\n    schema, whereas NoSQL databases have dynamic schemas for unstructured data.\\niii) SQL databases are vertically scalable, while NoSQL databases are horizontally scalable.\\niv) SQL databases are table based, while NoSQL databases are document, key-value, \\n     graph, or wide-column stores.\\nv) SQL databases are better for multi-row transactions, while NoSQL is better \\n    for unstructured data like documents or JSON. \\n\\n\\n'"
      ]
     },
     "execution_count": 2,
     "metadata": {},
     "output_type": "execute_result"
    }
   ],
   "source": [
    "'''\n",
    "A database is an organized collection of structured information, or data, typically\n",
    "stored in a computer system.\n",
    "\n",
    "The diffrences between SQL and NoSQL databases are listed below:\n",
    "i) SQL databases are relational, and NoSQL databases are non-relational.\n",
    "ii) SQL databases use structured query language(SQL) and have a predefined \n",
    "    schema, whereas NoSQL databases have dynamic schemas for unstructured data.\n",
    "iii) SQL databases are vertically scalable, while NoSQL databases are horizontally scalable.\n",
    "iv) SQL databases are table based, while NoSQL databases are document, key-value, \n",
    "     graph, or wide-column stores.\n",
    "v) SQL databases are better for multi-row transactions, while NoSQL is better \n",
    "    for unstructured data like documents or JSON. \n",
    "\n",
    "\n",
    "'''"
   ]
  },
  {
   "cell_type": "code",
   "execution_count": 3,
   "metadata": {},
   "outputs": [],
   "source": [
    "#Q2. What is DDL? Explain why CREATE, DROP, ALTER, and TRUNCATE are used with an example."
   ]
  },
  {
   "cell_type": "code",
   "execution_count": 4,
   "metadata": {},
   "outputs": [
    {
     "data": {
      "text/plain": [
       "' \\nA data definition language (DDL) is a computer language used to create and modify \\nthe structure of database objects in a database. These database objects include \\nviews, schemas, tables, indexes, etc.\\n\\n1) CREATE\\n-> Used to create database objects such as tables, indexes, or views.\\nExample:\\n CREATE TABLE students(\\n     student_id INT PRIMARY KEY,\\n     first_name VARCHAR(50)\\n     last_name VARCHAR(50)\\n     enrolled_date DATE\\n );\\n \\n2) DROP\\n-> Used to delete existing database objects like tables or indexes.\\nExample:\\n DROP TABLE students\\n\\n3) ALTER\\n -> Used to modify the structure of an existing database object, such as adding or \\n removing columns in a table.\\nExample:\\n ALTER TABLE students\\n ADD COLUMN roll_no INT;\\n \\n4) TRUNCATE\\n-> Used to remove all  rows from a table but retain the table structure for future use.\\n   It is fasater than DELETE for removing all records.\\nExample:\\nTRUNCATE TABLE students;\\n'"
      ]
     },
     "execution_count": 4,
     "metadata": {},
     "output_type": "execute_result"
    }
   ],
   "source": [
    "''' \n",
    "A data definition language (DDL) is a computer language used to create and modify \n",
    "the structure of database objects in a database. These database objects include \n",
    "views, schemas, tables, indexes, etc.\n",
    "\n",
    "1) CREATE\n",
    "-> Used to create database objects such as tables, indexes, or views.\n",
    "Example:\n",
    " CREATE TABLE students(\n",
    "     student_id INT PRIMARY KEY,\n",
    "     first_name VARCHAR(50)\n",
    "     last_name VARCHAR(50)\n",
    "     enrolled_date DATE\n",
    " );\n",
    " \n",
    "2) DROP\n",
    "-> Used to delete existing database objects like tables or indexes.\n",
    "Example:\n",
    " DROP TABLE students\n",
    "\n",
    "3) ALTER\n",
    " -> Used to modify the structure of an existing database object, such as adding or \n",
    " removing columns in a table.\n",
    "Example:\n",
    " ALTER TABLE students\n",
    " ADD COLUMN roll_no INT;\n",
    " \n",
    "4) TRUNCATE\n",
    "-> Used to remove all  rows from a table but retain the table structure for future use.\n",
    "   It is fasater than DELETE for removing all records.\n",
    "Example:\n",
    "TRUNCATE TABLE students;\n",
    "'''"
   ]
  },
  {
   "cell_type": "code",
   "execution_count": 5,
   "metadata": {},
   "outputs": [],
   "source": [
    "#Q3. What is DML? Explain INSERT, UPDATE, and DELETE with an example."
   ]
  },
  {
   "cell_type": "code",
   "execution_count": 6,
   "metadata": {},
   "outputs": [
    {
     "data": {
      "text/plain": [
       "\" \\nDML stands for Data Manipulation Language, which is a subset of SQL(Structured Query Language) used for manipulating data stored in  a\\ndatabase.\\n\\n1) INSERT\\n-> Used to add new rows of data into a table.\\nExample: \\nINSERT INTO students (student_id, first_name, last_name, enrolled_date)\\nVALUE (1, 'SAUGAT', 'POUDEL', '2003-03-12')\\n\\n2) UPDATE\\n-> Used to modify existing data in a table.\\nExample: \\nUPDATE students\\nSET roll_no = 1\\nWHERE student_id = 1;\\n\\n3) DELETE\\n-> Used to remove one or more rows from a table.\\nDELETE FROM students\\nWHERE student_id = 1;\\n\\n\\n\""
      ]
     },
     "execution_count": 6,
     "metadata": {},
     "output_type": "execute_result"
    }
   ],
   "source": [
    "''' \n",
    "DML stands for Data Manipulation Language, which is a subset of SQL(Structured Query Language) used for manipulating data stored in  a\n",
    "database.\n",
    "\n",
    "1) INSERT\n",
    "-> Used to add new rows of data into a table.\n",
    "Example: \n",
    "INSERT INTO students (student_id, first_name, last_name, enrolled_date)\n",
    "VALUE (1, 'SAUGAT', 'POUDEL', '2003-03-12')\n",
    "\n",
    "2) UPDATE\n",
    "-> Used to modify existing data in a table.\n",
    "Example: \n",
    "UPDATE students\n",
    "SET roll_no = 1\n",
    "WHERE student_id = 1;\n",
    "\n",
    "3) DELETE\n",
    "-> Used to remove one or more rows from a table.\n",
    "DELETE FROM students\n",
    "WHERE student_id = 1;\n",
    "\n",
    "\n",
    "'''"
   ]
  },
  {
   "cell_type": "code",
   "execution_count": 7,
   "metadata": {},
   "outputs": [],
   "source": [
    "#Q4. What is DQL? Explain SELECT with an example."
   ]
  },
  {
   "cell_type": "code",
   "execution_count": 8,
   "metadata": {},
   "outputs": [
    {
     "data": {
      "text/plain": [
       "' \\nDQL stands for Data Query Language, and it is a subset of SQL ued for querying and \\nretriving data from a database.\\n\\nSELECT\\n-> Used to retrive data from one or more tables in a database.\\n\\nExample:\\nSELECT student_id, first_name, last_name, enrolled_date\\nFROM students\\nWHERE class_id = 11;\\n\\n\\n'"
      ]
     },
     "execution_count": 8,
     "metadata": {},
     "output_type": "execute_result"
    }
   ],
   "source": [
    "''' \n",
    "DQL stands for Data Query Language, and it is a subset of SQL ued for querying and \n",
    "retriving data from a database.\n",
    "\n",
    "SELECT\n",
    "-> Used to retrive data from one or more tables in a database.\n",
    "\n",
    "Example:\n",
    "SELECT student_id, first_name, last_name, enrolled_date\n",
    "FROM students\n",
    "WHERE class_id = 11;\n",
    "\n",
    "\n",
    "'''"
   ]
  },
  {
   "cell_type": "code",
   "execution_count": 9,
   "metadata": {},
   "outputs": [],
   "source": [
    "#Q5. Explain Primary Key and Foreign Key."
   ]
  },
  {
   "cell_type": "code",
   "execution_count": 10,
   "metadata": {},
   "outputs": [
    {
     "data": {
      "text/plain": [
       "' \\nPrimary key: Primary key is a field or set of fields in a  database table that uniquely identifies each\\nrecord in that table. It serves as a unique identifier and ensures the integrity of the data \\nwithin the table. \\nForeign Key: A foreign key is a field in a database table that is a primary key in another table.\\nIt establishes a link between two tables by refrencing the primary key of one table from \\nanother table. The foreign key in one table typically refers to the primary key of another table, \\ncreating a relationship between the two tables.\\n\\n\\n'"
      ]
     },
     "execution_count": 10,
     "metadata": {},
     "output_type": "execute_result"
    }
   ],
   "source": [
    "''' \n",
    "Primary key: Primary key is a field or set of fields in a  database table that uniquely identifies each\n",
    "record in that table. It serves as a unique identifier and ensures the integrity of the data \n",
    "within the table. \n",
    "Foreign Key: A foreign key is a field in a database table that is a primary key in another table.\n",
    "It establishes a link between two tables by refrencing the primary key of one table from \n",
    "another table. The foreign key in one table typically refers to the primary key of another table, \n",
    "creating a relationship between the two tables.\n",
    "\n",
    "\n",
    "'''"
   ]
  },
  {
   "cell_type": "code",
   "execution_count": 11,
   "metadata": {},
   "outputs": [],
   "source": [
    "#Q6. Write a python code to connect MySQL to python. Explain the cursor() and execute() method."
   ]
  },
  {
   "cell_type": "code",
   "execution_count": 12,
   "metadata": {},
   "outputs": [
    {
     "name": "stdout",
     "output_type": "stream",
     "text": [
      "Collecting mysql-connector-python\n",
      "  Downloading mysql_connector_python-8.2.0-cp311-cp311-win_amd64.whl.metadata (2.1 kB)\n",
      "Collecting protobuf<=4.21.12,>=4.21.1 (from mysql-connector-python)\n",
      "  Downloading protobuf-4.21.12-cp310-abi3-win_amd64.whl (527 kB)\n",
      "     ---------------------------------------- 0.0/527.0 kB ? eta -:--:--\n",
      "      --------------------------------------- 10.2/527.0 kB ? eta -:--:--\n",
      "     -- ---------------------------------- 41.0/527.0 kB 495.5 kB/s eta 0:00:01\n",
      "     -------------- ----------------------- 194.6/527.0 kB 1.7 MB/s eta 0:00:01\n",
      "     ------------------------ ------------- 337.9/527.0 kB 2.1 MB/s eta 0:00:01\n",
      "     ----------------------------------- -- 491.5/527.0 kB 2.4 MB/s eta 0:00:01\n",
      "     -------------------------------------- 527.0/527.0 kB 2.4 MB/s eta 0:00:00\n",
      "Downloading mysql_connector_python-8.2.0-cp311-cp311-win_amd64.whl (14.2 MB)\n",
      "   ---------------------------------------- 0.0/14.2 MB ? eta -:--:--\n",
      "   ---------------------------------------- 0.1/14.2 MB 2.8 MB/s eta 0:00:05\n",
      "    --------------------------------------- 0.3/14.2 MB 3.1 MB/s eta 0:00:05\n",
      "   - -------------------------------------- 0.5/14.2 MB 3.1 MB/s eta 0:00:05\n",
      "   - -------------------------------------- 0.6/14.2 MB 3.4 MB/s eta 0:00:05\n",
      "   -- ------------------------------------- 0.8/14.2 MB 3.2 MB/s eta 0:00:05\n",
      "   -- ------------------------------------- 0.9/14.2 MB 3.3 MB/s eta 0:00:04\n",
      "   -- ------------------------------------- 1.1/14.2 MB 3.2 MB/s eta 0:00:05\n",
      "   --- ------------------------------------ 1.2/14.2 MB 3.3 MB/s eta 0:00:04\n",
      "   --- ------------------------------------ 1.4/14.2 MB 3.2 MB/s eta 0:00:04\n",
      "   ---- ----------------------------------- 1.5/14.2 MB 3.3 MB/s eta 0:00:04\n",
      "   ---- ----------------------------------- 1.7/14.2 MB 3.3 MB/s eta 0:00:04\n",
      "   ----- ---------------------------------- 1.8/14.2 MB 3.3 MB/s eta 0:00:04\n",
      "   ----- ---------------------------------- 2.0/14.2 MB 3.3 MB/s eta 0:00:04\n",
      "   ------ --------------------------------- 2.2/14.2 MB 3.3 MB/s eta 0:00:04\n",
      "   ------ --------------------------------- 2.3/14.2 MB 3.3 MB/s eta 0:00:04\n",
      "   ------ --------------------------------- 2.5/14.2 MB 3.3 MB/s eta 0:00:04\n",
      "   ------- -------------------------------- 2.6/14.2 MB 3.3 MB/s eta 0:00:04\n",
      "   ------- -------------------------------- 2.8/14.2 MB 3.3 MB/s eta 0:00:04\n",
      "   -------- ------------------------------- 2.9/14.2 MB 3.3 MB/s eta 0:00:04\n",
      "   -------- ------------------------------- 3.1/14.2 MB 3.3 MB/s eta 0:00:04\n",
      "   --------- ------------------------------ 3.2/14.2 MB 3.3 MB/s eta 0:00:04\n",
      "   --------- ------------------------------ 3.4/14.2 MB 3.3 MB/s eta 0:00:04\n",
      "   --------- ------------------------------ 3.6/14.2 MB 3.3 MB/s eta 0:00:04\n",
      "   ---------- ----------------------------- 3.7/14.2 MB 3.3 MB/s eta 0:00:04\n",
      "   ---------- ----------------------------- 3.9/14.2 MB 3.3 MB/s eta 0:00:04\n",
      "   ----------- ---------------------------- 4.0/14.2 MB 3.3 MB/s eta 0:00:04\n",
      "   ----------- ---------------------------- 4.2/14.2 MB 3.3 MB/s eta 0:00:04\n",
      "   ----------- ---------------------------- 4.2/14.2 MB 3.3 MB/s eta 0:00:04\n",
      "   ----------- ---------------------------- 4.2/14.2 MB 3.1 MB/s eta 0:00:04\n",
      "   ------------ --------------------------- 4.3/14.2 MB 3.1 MB/s eta 0:00:04\n",
      "   ------------ --------------------------- 4.4/14.2 MB 3.1 MB/s eta 0:00:04\n",
      "   ------------ --------------------------- 4.6/14.2 MB 3.1 MB/s eta 0:00:04\n",
      "   ------------ --------------------------- 4.6/14.2 MB 3.1 MB/s eta 0:00:04\n",
      "   ------------- -------------------------- 4.8/14.2 MB 3.0 MB/s eta 0:00:04\n",
      "   ------------- -------------------------- 4.9/14.2 MB 3.0 MB/s eta 0:00:04\n",
      "   ------------- -------------------------- 5.0/14.2 MB 3.0 MB/s eta 0:00:04\n",
      "   -------------- ------------------------- 5.1/14.2 MB 2.9 MB/s eta 0:00:04\n",
      "   -------------- ------------------------- 5.2/14.2 MB 2.9 MB/s eta 0:00:04\n",
      "   -------------- ------------------------- 5.3/14.2 MB 2.9 MB/s eta 0:00:04\n",
      "   --------------- ------------------------ 5.4/14.2 MB 2.9 MB/s eta 0:00:04\n",
      "   --------------- ------------------------ 5.5/14.2 MB 2.9 MB/s eta 0:00:04\n",
      "   --------------- ------------------------ 5.7/14.2 MB 2.9 MB/s eta 0:00:03\n",
      "   ---------------- ----------------------- 5.8/14.2 MB 2.9 MB/s eta 0:00:03\n",
      "   ---------------- ----------------------- 6.0/14.2 MB 2.9 MB/s eta 0:00:03\n",
      "   ----------------- ---------------------- 6.1/14.2 MB 2.9 MB/s eta 0:00:03\n",
      "   ----------------- ---------------------- 6.3/14.2 MB 2.9 MB/s eta 0:00:03\n",
      "   ------------------ --------------------- 6.4/14.2 MB 2.9 MB/s eta 0:00:03\n",
      "   ------------------ --------------------- 6.6/14.2 MB 3.0 MB/s eta 0:00:03\n",
      "   ------------------ --------------------- 6.7/14.2 MB 2.9 MB/s eta 0:00:03\n",
      "   ------------------- -------------------- 6.9/14.2 MB 3.0 MB/s eta 0:00:03\n",
      "   ------------------- -------------------- 7.0/14.2 MB 3.0 MB/s eta 0:00:03\n",
      "   -------------------- ------------------- 7.2/14.2 MB 3.0 MB/s eta 0:00:03\n",
      "   -------------------- ------------------- 7.3/14.2 MB 3.0 MB/s eta 0:00:03\n",
      "   -------------------- ------------------- 7.3/14.2 MB 3.0 MB/s eta 0:00:03\n",
      "   --------------------- ------------------ 7.5/14.2 MB 2.9 MB/s eta 0:00:03\n",
      "   --------------------- ------------------ 7.6/14.2 MB 2.9 MB/s eta 0:00:03\n",
      "   --------------------- ------------------ 7.8/14.2 MB 2.9 MB/s eta 0:00:03\n",
      "   ---------------------- ----------------- 7.9/14.2 MB 3.0 MB/s eta 0:00:03\n",
      "   ---------------------- ----------------- 8.1/14.2 MB 3.0 MB/s eta 0:00:03\n",
      "   ----------------------- ---------------- 8.3/14.2 MB 3.0 MB/s eta 0:00:03\n",
      "   ----------------------- ---------------- 8.4/14.2 MB 3.0 MB/s eta 0:00:02\n",
      "   ------------------------ --------------- 8.6/14.2 MB 3.0 MB/s eta 0:00:02\n",
      "   ------------------------ --------------- 8.7/14.2 MB 3.0 MB/s eta 0:00:02\n",
      "   ------------------------ --------------- 8.9/14.2 MB 3.0 MB/s eta 0:00:02\n",
      "   ------------------------- -------------- 9.0/14.2 MB 3.0 MB/s eta 0:00:02\n",
      "   ------------------------- -------------- 9.2/14.2 MB 3.0 MB/s eta 0:00:02\n",
      "   -------------------------- ------------- 9.3/14.2 MB 3.0 MB/s eta 0:00:02\n",
      "   -------------------------- ------------- 9.5/14.2 MB 3.0 MB/s eta 0:00:02\n",
      "   -------------------------- ------------- 9.6/14.2 MB 3.0 MB/s eta 0:00:02\n",
      "   --------------------------- ------------ 9.7/14.2 MB 3.0 MB/s eta 0:00:02\n",
      "   --------------------------- ------------ 9.9/14.2 MB 3.0 MB/s eta 0:00:02\n",
      "   ---------------------------- ----------- 10.0/14.2 MB 3.0 MB/s eta 0:00:02\n",
      "   ---------------------------- ----------- 10.2/14.2 MB 3.0 MB/s eta 0:00:02\n",
      "   ----------------------------- ---------- 10.4/14.2 MB 3.0 MB/s eta 0:00:02\n",
      "   ----------------------------- ---------- 10.5/14.2 MB 3.0 MB/s eta 0:00:02\n",
      "   ------------------------------ --------- 10.7/14.2 MB 3.0 MB/s eta 0:00:02\n",
      "   ------------------------------ --------- 10.8/14.2 MB 3.0 MB/s eta 0:00:02\n",
      "   ------------------------------ --------- 11.0/14.2 MB 3.0 MB/s eta 0:00:02\n",
      "   ------------------------------- -------- 11.1/14.2 MB 3.0 MB/s eta 0:00:02\n",
      "   ------------------------------- -------- 11.3/14.2 MB 3.0 MB/s eta 0:00:01\n",
      "   -------------------------------- ------- 11.4/14.2 MB 3.0 MB/s eta 0:00:01\n",
      "   -------------------------------- ------- 11.6/14.2 MB 3.0 MB/s eta 0:00:01\n",
      "   --------------------------------- ------ 11.8/14.2 MB 3.0 MB/s eta 0:00:01\n",
      "   --------------------------------- ------ 11.9/14.2 MB 3.0 MB/s eta 0:00:01\n",
      "   --------------------------------- ------ 12.1/14.2 MB 3.0 MB/s eta 0:00:01\n",
      "   ---------------------------------- ----- 12.2/14.2 MB 3.0 MB/s eta 0:00:01\n",
      "   ---------------------------------- ----- 12.4/14.2 MB 3.0 MB/s eta 0:00:01\n",
      "   ----------------------------------- ---- 12.5/14.2 MB 3.0 MB/s eta 0:00:01\n",
      "   ----------------------------------- ---- 12.7/14.2 MB 3.0 MB/s eta 0:00:01\n",
      "   ------------------------------------ --- 12.8/14.2 MB 3.0 MB/s eta 0:00:01\n",
      "   ------------------------------------ --- 13.0/14.2 MB 3.0 MB/s eta 0:00:01\n",
      "   ------------------------------------ --- 13.1/14.2 MB 3.0 MB/s eta 0:00:01\n",
      "   ------------------------------------- -- 13.3/14.2 MB 3.0 MB/s eta 0:00:01\n",
      "   ------------------------------------- -- 13.4/14.2 MB 3.0 MB/s eta 0:00:01\n",
      "   -------------------------------------- - 13.6/14.2 MB 3.0 MB/s eta 0:00:01\n",
      "   -------------------------------------- - 13.7/14.2 MB 3.0 MB/s eta 0:00:01\n",
      "   ---------------------------------------  13.9/14.2 MB 3.0 MB/s eta 0:00:01\n",
      "   ---------------------------------------  14.1/14.2 MB 3.0 MB/s eta 0:00:01\n",
      "   ---------------------------------------  14.2/14.2 MB 3.0 MB/s eta 0:00:01\n",
      "   ---------------------------------------- 14.2/14.2 MB 3.0 MB/s eta 0:00:00\n",
      "Installing collected packages: protobuf, mysql-connector-python\n",
      "Successfully installed mysql-connector-python-8.2.0 protobuf-4.21.12\n"
     ]
    }
   ],
   "source": [
    "!pip install mysql-connector-python\n",
    "import mysql.connector\n",
    "\n",
    "# Establishing a connection to MySQL\n",
    "connection = mysql.connector.connect(\n",
    "    host=\"your_mysql_host\",\n",
    "    user=\"your_username\",\n",
    "    password=\"your_password\",\n",
    "    database=\"your_database\"\n",
    ")\n",
    "\n",
    "# Creating a cursor object\n",
    "cursor = connection.cursor()\n",
    "\n",
    "# Example: executing a SELECT query\n",
    "query = \"SELECT * FROM your_table;\"\n",
    "cursor.execute(query)\n",
    "\n",
    "# Fetching the result set\n",
    "result = cursor.fetchall()\n",
    "\n",
    "# Displaying the result\n",
    "for row in result:\n",
    "    print(row)\n",
    "\n",
    "# Closing the cursor and connection\n",
    "cursor.close()\n",
    "connection.close()\n",
    "\n"
   ]
  },
  {
   "cell_type": "code",
   "execution_count": 13,
   "metadata": {},
   "outputs": [
    {
     "data": {
      "text/plain": [
       "' \\nExplanation of the cursor() and execute() methods:\\n\\ncursor() method:\\n\\nThe cursor() method is called on the connection object to create a cursor.\\nA cursor is a pointer or an interface to interact with the database. It allows you to execute SQL queries, fetch results, and manage transactions.\\nexecute() method:\\n\\nThe execute() method is called on the cursor object to execute a SQL query.\\nIt takes a SQL query as an argument and sends it to the MySQL server for execution.\\nAfter executing the query, you can use other cursor methods (e.g., fetchone(), fetchall()) to retrieve the results.\\n'"
      ]
     },
     "execution_count": 13,
     "metadata": {},
     "output_type": "execute_result"
    }
   ],
   "source": [
    "''' \n",
    "Explanation of the cursor() and execute() methods:\n",
    "\n",
    "cursor() method:\n",
    "\n",
    "The cursor() method is called on the connection object to create a cursor.\n",
    "A cursor is a pointer or an interface to interact with the database. It allows you to execute SQL queries, fetch results, and manage transactions.\n",
    "execute() method:\n",
    "\n",
    "The execute() method is called on the cursor object to execute a SQL query.\n",
    "It takes a SQL query as an argument and sends it to the MySQL server for execution.\n",
    "After executing the query, you can use other cursor methods (e.g., fetchone(), fetchall()) to retrieve the results.\n",
    "'''"
   ]
  },
  {
   "cell_type": "code",
   "execution_count": 15,
   "metadata": {},
   "outputs": [],
   "source": [
    "#Q7. Give the order of execution of SQL clauses in an SQL query.\n"
   ]
  },
  {
   "cell_type": "code",
   "execution_count": 14,
   "metadata": {},
   "outputs": [
    {
     "data": {
      "text/plain": [
       "' \\n\\nIn an SQL query, the clauses are generally executed in a specific order. The standard order of execution is as follows:\\n\\nFROM:\\n\\nThe FROM clause specifies the table or tables from which the data will be retrieved.\\nWHERE:\\n\\nThe WHERE clause is used to filter the rows based on a specified condition. It restricts the result set to only include rows that satisfy the specified conditions.\\nGROUP BY:\\n\\nThe GROUP BY clause is used to group rows based on one or more columns. This is often used in combination with aggregate functions (e.g., COUNT, SUM) to perform calculations on grouped data.\\nHAVING:\\n\\nThe HAVING clause is used in conjunction with GROUP BY to filter the groups based on aggregate conditions. It operates similarly to the WHERE clause but is used specifically with grouped data.\\nSELECT:\\n\\nThe SELECT clause specifies the columns to be retrieved from the tables. It comes after the FROM, WHERE, GROUP BY, and HAVING clauses.\\nORDER BY:\\n\\nThe ORDER BY clause is used to sort the result set based on one or more columns. It comes after the SELECT clause.\\nLIMIT/OFFSET:\\n\\nThe LIMIT and OFFSET (or FETCH) clauses are used to limit the number of rows returned by the query and to specify the starting point for the result set. These clauses are often used for pagination.\\n\\n\\n'"
      ]
     },
     "execution_count": 14,
     "metadata": {},
     "output_type": "execute_result"
    }
   ],
   "source": [
    "''' \n",
    "\n",
    "In an SQL query, the clauses are generally executed in a specific order. The standard order of execution is as follows:\n",
    "\n",
    "FROM:\n",
    "\n",
    "The FROM clause specifies the table or tables from which the data will be retrieved.\n",
    "WHERE:\n",
    "\n",
    "The WHERE clause is used to filter the rows based on a specified condition. It restricts the result set to only include rows that satisfy the specified conditions.\n",
    "GROUP BY:\n",
    "\n",
    "The GROUP BY clause is used to group rows based on one or more columns. This is often used in combination with aggregate functions (e.g., COUNT, SUM) to perform calculations on grouped data.\n",
    "HAVING:\n",
    "\n",
    "The HAVING clause is used in conjunction with GROUP BY to filter the groups based on aggregate conditions. It operates similarly to the WHERE clause but is used specifically with grouped data.\n",
    "SELECT:\n",
    "\n",
    "The SELECT clause specifies the columns to be retrieved from the tables. It comes after the FROM, WHERE, GROUP BY, and HAVING clauses.\n",
    "ORDER BY:\n",
    "\n",
    "The ORDER BY clause is used to sort the result set based on one or more columns. It comes after the SELECT clause.\n",
    "LIMIT/OFFSET:\n",
    "\n",
    "The LIMIT and OFFSET (or FETCH) clauses are used to limit the number of rows returned by the query and to specify the starting point for the result set. These clauses are often used for pagination.\n",
    "\n",
    "\n",
    "'''"
   ]
  },
  {
   "cell_type": "code",
   "execution_count": null,
   "metadata": {},
   "outputs": [],
   "source": []
  }
 ],
 "metadata": {
  "kernelspec": {
   "display_name": "Python 3",
   "language": "python",
   "name": "python3"
  },
  "language_info": {
   "codemirror_mode": {
    "name": "ipython",
    "version": 3
   },
   "file_extension": ".py",
   "mimetype": "text/x-python",
   "name": "python",
   "nbconvert_exporter": "python",
   "pygments_lexer": "ipython3",
   "version": "3.11.7"
  }
 },
 "nbformat": 4,
 "nbformat_minor": 2
}
